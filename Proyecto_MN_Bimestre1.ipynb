{
 "cells": [
  {
   "cell_type": "code",
   "execution_count": 47,
   "id": "af0f2ccc-20ef-4c9a-9479-50b955d6fbd9",
   "metadata": {},
   "outputs": [
    {
     "data": {
      "application/vnd.jupyter.widget-view+json": {
       "model_id": "51d733b4f8e143f896fafdfebc1b2e83",
       "version_major": 2,
       "version_minor": 0
      },
      "text/plain": [
       "interactive(children=(FloatSlider(value=20.0, description='x1', max=30.0, min=1.0, step=0.01), FloatSlider(val…"
      ]
     },
     "metadata": {},
     "output_type": "display_data"
    }
   ],
   "source": [
    "import matplotlib.pyplot as plt\n",
    "from ipywidgets import widgets, interactive\n",
    "import numpy as np\n",
    "\n",
    "def equation(x):\n",
    "    # Ejemplo de una ecuación para la bisección\n",
    "    return (slider_H.value * (np.sqrt(slider_x1.value**2 - x**2) + np.sqrt(slider_x2.value**2 - x**2)) - \n",
    "            np.sqrt((slider_x1.value**2 - x**2) * (slider_x2.value**2 - x**2)))\n",
    "\n",
    "def bisection(a, b, equation, tol, N):\n",
    "    # Implementación del método de bisección\n",
    "    def f(x):\n",
    "        return equation(x)\n",
    "    \n",
    "    n = 0\n",
    "    while n < N:\n",
    "        c = (a + b) / 2\n",
    "        if f(c) == 0 or (b - a) / 2 < tol:\n",
    "            return c, n\n",
    "        n += 1\n",
    "        if np.sign(f(c)) == np.sign(f(a)):\n",
    "            a = c\n",
    "        else:\n",
    "            b = c\n",
    "    return c, n\n",
    "\n",
    "\n",
    "def plot_graph(x1, x2, H):\n",
    "    # Actualizar el valor de W usando el método de bisección\n",
    "    a = 0\n",
    "    if slider_x1.value < slider_x2.value:\n",
    "        b = slider_x1.value - 0.0001\n",
    "    else:\n",
    "        b = slider_x2.value - 0.00000001\n",
    "    tol = 10**(-6)\n",
    "    result = bisection(a=a, b=b, equation=equation, tol=tol, N=35)\n",
    "    W = result[0]\n",
    "    print(f'W = {W}')\n",
    "    #dibujo de lineas\n",
    "    fig, ax = plt.subplots()\n",
    "    ax.plot([0, W], [0, 0], label='W')\n",
    "    ax.plot([W, W], [0, 40], label='pared1')\n",
    "    ax.plot([0, 0], [0, 40], label='pared2')\n",
    "    #Para x1\n",
    "    altura_x1 = (x1**2-W**2)**0.5\n",
    "    ax.plot([0, W], [0, altura_x1], label='x1')\n",
    "    #Para x2\n",
    "    altura_x2 = (x2**2-W**2)**0.5\n",
    "    ax.plot([W, 0], [0, altura_x2], label='x2')\n",
    "    #Para H\n",
    "    d = (altura_x2-H)*(W/altura_x2)\n",
    "    ax.plot([d, d], [0, H], label='H')\n",
    "    \n",
    "    ax.set_xlim(-1, 35)\n",
    "    ax.set_ylim(-1, 45)\n",
    "\n",
    "    ax.legend()\n",
    "    plt.show()\n",
    "\n",
    "\n",
    "    # Actualizar el valor de W usando el método de bisección\n",
    "    a = 0\n",
    "    if slider_x1.value < slider_x2.value:\n",
    "        b = slider_x1.value - 0.0001\n",
    "    else:\n",
    "        b = slider_x2.value - 0.00000001\n",
    "    tol = 10**(-6)\n",
    "    result = bisection(a=a, b=b, equation=equation, tol=tol, N=35)\n",
    "    W = result[0]\n",
    "    print(f'W = {W}')\n",
    "\n",
    "# Crear los sliders x1 y x2\n",
    "slider_x1 = widgets.FloatSlider(value=20, min=1, max=30, step=0.01, description='x1')\n",
    "slider_x2 = widgets.FloatSlider(value=20, min=1, max=30, step=0.01, description='x2')\n",
    "\n",
    "# Crear el slider H con un valor máximo dependiente de la suma de x1 y x2\n",
    "def update_slider_H_range(*args):\n",
    "    slider_H.max = slider_x1.value * slider_x2.value /(slider_x1.value + slider_x2.value)\n",
    "\n",
    "slider_x1.observe(update_slider_H_range, 'value')\n",
    "slider_x2.observe(update_slider_H_range, 'value')\n",
    "\n",
    "# Inicializar el slider H con su rango actualizado\n",
    "slider_H = widgets.FloatSlider(value=1, min=0.01, max=slider_x1.value * slider_x2.value /(slider_x1.value + slider_x2.value), step=0.01, description='H')\n",
    "\n",
    "# Crear el interactivo\n",
    "interactive_plot = interactive(plot_graph, x1=slider_x1, x2=slider_x2, H=slider_H)\n",
    "\n",
    "# Mostrar los widgets y el gráfico\n",
    "display(interactive_plot)"
   ]
  },
  {
   "cell_type": "code",
   "execution_count": null,
   "id": "968fdadb-545d-4983-b747-ec279c181137",
   "metadata": {},
   "outputs": [],
   "source": []
  }
 ],
 "metadata": {
  "kernelspec": {
   "display_name": "Python 3 (ipykernel)",
   "language": "python",
   "name": "python3"
  },
  "language_info": {
   "codemirror_mode": {
    "name": "ipython",
    "version": 3
   },
   "file_extension": ".py",
   "mimetype": "text/x-python",
   "name": "python",
   "nbconvert_exporter": "python",
   "pygments_lexer": "ipython3",
   "version": "3.11.7"
  }
 },
 "nbformat": 4,
 "nbformat_minor": 5
}
